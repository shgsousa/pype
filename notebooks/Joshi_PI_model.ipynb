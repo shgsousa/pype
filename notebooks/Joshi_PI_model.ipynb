{
 "cells": [
  {
   "cell_type": "markdown",
   "metadata": {},
   "source": [
    "The Joshi model is a widely used method for estimating the productivity index (PI) of horizontal oil wells, particularly in anisotropic reservoirs. This model is designed to account for the complexities of fluid flow in horizontal wells, which differ significantly from vertical wells.\n",
    "Key Parameters in the Joshi Model:\n",
    "\n",
    "- Length of the horizontal well ($L$)\n",
    "- Wellbore radius ($R_w$)\n",
    "- Drainage radius ($R_e$)\n",
    "- Reservoir height ($h$)\n",
    "- Vertical permeability ($K_z$)\n",
    "- Horizontal permeability ($K_{xy}$)\n",
    "- Liquid formation volume factor ($B_l$)\n",
    "- Liquid viscosity ($U_l$)\n",
    "\n",
    "Formula:\n",
    "The productivity index (PI) in the Joshi model is calculated using the following formula:\n",
    "\n",
    "$$PI=\\frac{2 π K_{xy} ​h}{\\ln\\left(\\frac{R_w}{R_e}​\\right)+S}​$$\n",
    "\n",
    "where:\n",
    "\n",
    "$K_{xy}$ is the horizontal permeability,<br/>\n",
    "$h$ is the reservoir height,<br/>\n",
    "$R_e$ is the drainage radius,<br/>\n",
    "$R_w$ is the wellbore radius,<br/>\n",
    "$S$ is the skin factor, which accounts for any damage or stimulation around the wellbore.\n",
    "\n",
    "The Joshi model is particularly useful because it simplifies the complex three-dimensional flow problem into a more manageable two-dimensional one, making it easier to estimate the productivity of horizontal wells12."
   ]
  },
  {
   "cell_type": "code",
   "execution_count": null,
   "metadata": {},
   "outputs": [],
   "source": []
  }
 ],
 "metadata": {
  "language_info": {
   "name": "python"
  }
 },
 "nbformat": 4,
 "nbformat_minor": 2
}
