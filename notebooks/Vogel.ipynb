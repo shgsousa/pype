{
 "cells": [
  {
   "cell_type": "markdown",
   "metadata": {},
   "source": [
    "# The Vogel IPR\n",
    "\n",
    "Only empirical equations are available for modeling IPR of two-phase reservoirs. These empirical equations include Vogel’s (1968) equation extended by Standing (1971).\n",
    "\n",
    "Vogel’s equation is still widely used in the industry. It is written as\n",
    "\n",
    "$$q = q_{\\text{max}} \\left[ 1 - 0.2 \\left( \\frac{p_{wf}}{p_r} \\right) - 0.8 \\left( \\frac{p_{wf}}{p_r} \\right)^2 \\right] \\qquad (3.19)$$\n",
    "\n",
    "or\n",
    "\n",
    "$$\\frac{p_{wf}}{p_r} = 0.125 \\left[ 8 \\left( 1 - \\frac{q}{q_{\\text{max}}} \\right) + \\sqrt{ \\left[ 8 \\left( 1 - \\frac{q}{q_{\\text{max}}} \\right) - 1 \\right] } \\right] \\qquad (3.20)$$\n",
    "\n",
    "where $q_{\\text{max}}$ is an empirical constant and its value represents the maximum possible value of reservoir deliverability, or AOF. The $q_{\\text{max}}$ can be theoretically estimated based on reservoir pressure and productivity index above the bubble-point pressure. The pseudo-steady-state flow follows that\n",
    "\n",
    "$$q_{\\text{max}} = \\frac{Jp_r}{1.8} \\qquad (3.21)$$\n",
    "\n",
    "Let us start programming these equations:"
   ]
  },
  {
   "cell_type": "code",
   "execution_count": 2,
   "metadata": {},
   "outputs": [],
   "source": [
    "def calculate_ipr(p_wf, p_r, q_max):\n",
    "    \"\"\"\n",
    "    Calculate the flow rate of an oil well using Vogel's Inflow Performance Relationship (IPR).\n",
    "\n",
    "    Parameters:\n",
    "    p_wf : float\n",
    "        Bottomhole flowing pressure (psia)\n",
    "    p_r : float\n",
    "        Average reservoir pressure (psia)\n",
    "    q_max : float\n",
    "        Maximum flow rate at zero bottomhole flowing pressure (STB/day)\n",
    "\n",
    "    Returns:\n",
    "    q : float\n",
    "        Flow rate at bottomhole flowing pressure p_wf (STB/day)\n",
    "    \"\"\"\n",
    "    # Validate input pressures\n",
    "    if p_wf < 0 or p_r <= 0:\n",
    "        raise ValueError(\"Pressures must be positive values.\")\n",
    "    if p_wf > p_r:\n",
    "        raise ValueError(\"Bottomhole flowing pressure must be less than or equal to reservoir pressure.\")\n",
    "\n",
    "    # Calculate the dimensionless pressure ratio\n",
    "    p_ratio = p_wf / p_r\n",
    "\n",
    "    # Implement Vogel's equation\n",
    "    q = q_max * (1 - 0.2 * p_ratio - 0.8 * p_ratio**2)\n",
    "    return q\n",
    "\n",
    "def calculate_qmax(q1, p_wf1, p_r):\n",
    "    \"\"\"\n",
    "    Calculate the maximum flow rate q_max using Vogel's equation and a known flow rate q1 at p_wf1.\n",
    "\n",
    "    Parameters:\n",
    "    q1 : float\n",
    "        Known flow rate at bottomhole flowing pressure p_wf1 (STB/day)\n",
    "    p_wf1 : float\n",
    "        Known bottomhole flowing pressure (psia)\n",
    "    p_r : float\n",
    "        Average reservoir pressure (psia)\n",
    "\n",
    "    Returns:\n",
    "    q_max : float\n",
    "        Maximum flow rate at zero bottomhole flowing pressure (STB/day)\n",
    "    \"\"\"\n",
    "    # Validate input pressures\n",
    "    if p_wf1 < 0 or p_r <= 0:\n",
    "        raise ValueError(\"Pressures must be positive values.\")\n",
    "    if p_wf1 > p_r:\n",
    "        raise ValueError(\"Bottomhole flowing pressure must be less than or equal to reservoir pressure.\")\n",
    "\n",
    "    # Calculate the dimensionless pressure ratio\n",
    "    p_ratio = p_wf1 / p_r\n",
    "\n",
    "    # Rearrange Vogel's equation to solve for q_max\n",
    "    q_max = q1 / (1 - 0.2 * p_ratio - 0.8 * p_ratio**2)\n",
    "    return q_max\n"
   ]
  },
  {
   "cell_type": "code",
   "execution_count": 3,
   "metadata": {},
   "outputs": [
    {
     "name": "stdout",
     "output_type": "stream",
     "text": [
      "Calculated q_max: 844.59 STB/day\n",
      "Flow rate at p_wf = 1000 psia: 668.92 STB/day\n"
     ]
    }
   ],
   "source": [
    "# Example usage:\n",
    "if __name__ == \"__main__\":\n",
    "    # Given parameters\n",
    "    p_r = 2500  # Reservoir pressure in psia\n",
    "    p_wf = 1000  # Bottomhole flowing pressure in psia\n",
    "    q1 = 500  # Known flow rate at p_wf1\n",
    "    p_wf1 = 1500  # Known bottomhole flowing pressure in psia\n",
    "\n",
    "    # Calculate q_max using known flow rate\n",
    "    q_max = calculate_qmax(q1, p_wf1, p_r)\n",
    "    print(f\"Calculated q_max: {q_max:.2f} STB/day\")\n",
    "\n",
    "    # Calculate flow rate at desired bottomhole pressure\n",
    "    q = vogel_ipr(p_wf, p_r, q_max)\n",
    "    print(f\"Flow rate at p_wf = {p_wf} psia: {q:.2f} STB/day\")\n"
   ]
  },
  {
   "cell_type": "code",
   "execution_count": null,
   "metadata": {},
   "outputs": [],
   "source": []
  }
 ],
 "metadata": {
  "kernelspec": {
   "display_name": "venv",
   "language": "python",
   "name": "python3"
  },
  "language_info": {
   "codemirror_mode": {
    "name": "ipython",
    "version": 3
   },
   "file_extension": ".py",
   "mimetype": "text/x-python",
   "name": "python",
   "nbconvert_exporter": "python",
   "pygments_lexer": "ipython3",
   "version": "3.10.11"
  }
 },
 "nbformat": 4,
 "nbformat_minor": 2
}
